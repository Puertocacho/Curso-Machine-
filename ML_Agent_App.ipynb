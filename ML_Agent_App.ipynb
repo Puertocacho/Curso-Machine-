{
  "nbformat": 4,
  "nbformat_minor": 0,
  "metadata": {
    "colab": {
      "provenance": [],
      "authorship_tag": "ABX9TyOH40dshCi+SN+g+ZU3HkCG",
      "include_colab_link": true
    },
    "kernelspec": {
      "name": "python3",
      "display_name": "Python 3"
    },
    "language_info": {
      "name": "python"
    }
  },
  "cells": [
    {
      "cell_type": "markdown",
      "metadata": {
        "id": "view-in-github",
        "colab_type": "text"
      },
      "source": [
        "<a href=\"https://colab.research.google.com/github/Puertocacho/Curso-Machine-/blob/main/ML_Agent_App.ipynb\" target=\"_parent\"><img src=\"https://colab.research.google.com/assets/colab-badge.svg\" alt=\"Open In Colab\"/></a>"
      ]
    },
    {
      "cell_type": "code",
      "source": [
        "!pip install streamlit\n",
        "!pip install pycaret\n",
        "!pip install numba --upgrade\n",
        "!pip install streamlit_pandas_profiling\n",
        "!pip install pyngrok"
      ],
      "metadata": {
        "id": "tUpUSoRm6g8m"
      },
      "execution_count": null,
      "outputs": []
    },
    {
      "cell_type": "code",
      "source": [
        "from operator import index\n",
        "import streamlit as st\n",
        "import plotly.express as px\n",
        "import pandas_profiling\n",
        "import pandas as pd\n",
        "from streamlit_pandas_profiling import st_profile_report\n",
        "import streamlit as st\n",
        "import os\n",
        "\n",
        "if os.path.exists('./dataset.csv'):\n",
        "      df = pd.read_csv('dataset.csv', index_col=None)\n",
        "\n",
        "\n",
        "\n",
        "with st.sidebar:\n",
        "      st.image(\"https://miro.medium.com/v2/resize:fit:720/format:webp/1*DjUEt5--t6lCjYG_MuZlLg.png\")\n",
        "      st.title(\"Auto Machine Learning Agent for Supervised ML\")\n",
        "      choice = st.radio(\"Navigation\", [\"Upload\",\"Profiling\",\"Modelling\", \"Download\"])\n",
        "      #st.info(\"This project application helps you build and explore your data.\")\n",
        "  #choice_upload = st.radio(\"Navigation\",[\"Regression\",\"Classification\"])\n",
        "  #if choice_upload == \"Regression\":\n",
        "\n",
        "\n",
        "\n",
        "if choice == \"Upload\":\n",
        "      st.title(\"Upload Your Dataset (file_name.csv)\")\n",
        "      file = st.file_uploader(\"Upload Your Dataset\")\n",
        "      if file:\n",
        "          df = pd.read_csv(file, index_col=None)\n",
        "          df.to_csv('dataset.csv', index=None)\n",
        "          st.dataframe(df)\n",
        "\n",
        "if choice == \"Profiling\":\n",
        "      st.title(\"Exploratory Data Analysis\")\n",
        "      profile_df = df.profile_report()\n",
        "      st_profile_report(profile_df)\n",
        "\n",
        "\n",
        "\n",
        "\n",
        "if choice == \"Modelling\":\n",
        "\n",
        "      st.title(\"\"\"Choose the Supervised ML\"\"\")\n",
        "      RegorClas = st.radio(\"\",[\"Regresion\",\"Clasification\"])\n",
        "      if st.button('What is Regresion and Clasification ?'):\n",
        "\n",
        "        st.write(\"\"\"\n",
        "        Regression is like predicting the weather ☀️ - you're trying to forecast a continuous value, like temperature or humidity. It's like having a crystal ball 🔮 that tells you what the future holds, but for numbers! If you want to predict a numerical value, like stock prices 📈 or house prices 🏠, then Regression is the way to go.\n",
        "\n",
        "        Classification, on the other hand, is like sorting laundry 👕👖 - you're trying to categorize data into different groups or classes. It's like playing a game of \"Guess Who?\" 🤔, but with data! If you want to classify data into different categories, like predicting if an email is spam 📧 or not spam 📩, then Classification is your go-to.\n",
        "\n",
        "        So which one should you choose? Well, it all depends on what you're trying to predict! Are you interested in numerical values or categories? Once you figure that out, choosing between Regression and Classification will be as easy as pie 🥧!\n",
        "\n",
        "        \"\"\")\n",
        "      st.title(\"Choose the Target Column\")\n",
        "      chosen_target = st.selectbox('', df.columns)\n",
        "      if RegorClas == \"Regresion\":\n",
        "        from pycaret.regression import setup,pull,compare_models,save_model\n",
        "        if st.button('Run Modelling'):\n",
        "            setup(df, target=chosen_target, silent=True)\n",
        "            setup_df = pull()\n",
        "            #st.dataframe(setup_df)\n",
        "            with st.spinner('Loading... ⏳🤖 Our robots are working hard. Please wait'):\n",
        "                best_model = compare_models()\n",
        "                compare_df = pull()\n",
        "                st.dataframe(compare_df)\n",
        "                save_model(best_model, 'best_model')\n",
        "      if RegorClas == \"Clasification\":\n",
        "        from pycaret.classification import setup,pull,compare_models,save_model\n",
        "        if st.button('Run Modelling'):\n",
        "            setup(df, target=chosen_target, silent=True)\n",
        "            setup_df = pull()\n",
        "            st.dataframe(setup_df)\n",
        "            best_model = compare_models()\n",
        "            compare_df = pull()\n",
        "            st.dataframe(compare_df)\n",
        "            save_model(best_model, 'best_model')\n",
        "\n",
        "\n",
        "if choice == \"Download\":\n",
        "      st.title(\"💻 Download the best model now 👇👇👇\")\n",
        "      with open('best_model.pkl', 'rb') as f:\n",
        "          st.download_button('Download Model', f, file_name=\"best_model.pkl\")\n"
      ],
      "metadata": {
        "id": "VTRFjSZjDHce"
      },
      "execution_count": null,
      "outputs": []
    },
    {
      "cell_type": "code",
      "source": [],
      "metadata": {
        "id": "LNUr-1zqBbPv"
      },
      "execution_count": null,
      "outputs": []
    },
    {
      "cell_type": "code",
      "source": [
        "%%writefile Home.py\n",
        "import streamlit as st\n",
        "\n",
        "st.set_page_config(\n",
        "    page_title=\"ML Agent App\",\n",
        "    page_icon=\":robot_face:\",\n",
        "    layout=\"wide\",\n",
        "    initial_sidebar_state=\"expanded\",\n",
        "\n",
        "    )\n",
        "\n",
        "\n",
        "\n",
        "st.write(\"# Machine Learning Agent 🤖\")\n",
        "\n",
        "\n",
        "st.write(\"\"\"\n",
        "    👋 Hey there, folks! Are you tired of manually analyzing data, making charts, and trying to predict the future 🤔? Fear not, because we've got just the thing for you: a machine learning agent that will do all the heavy lifting for you! 🤖💪\n",
        "\n",
        "Our super-smart AI buddy has the ability to create a study of any data set you give it 📊. That means no more late nights staring at spreadsheets or squinting at tiny font sizes 🙅‍♀️. Just sit back, relax, and let the machine learning agent work its magic 🔮.\n",
        "\n",
        "Not only that, but this amazing virtual friend can also use the data to create a model that will predict future outcomes with incredible accuracy 🎯. No more guesswork or relying on a Magic 8 Ball 🎱. Our machine learning agent will use the latest and greatest algorithms to analyze the data and make predictions that will blow your mind 🤯.\n",
        "\n",
        "But wait, there's more! Our machine learning agent is not just a boring number-cruncher 🙅‍♂️.\n",
        "\n",
        "So why waste time and energy analyzing data when you can have your own personal machine learning agent do it for you? 🤖💻 Say goodbye to spreadsheets and hello to an easier, more fun way of predicting the future 🚀!\n",
        "\"\"\")\n",
        "\n",
        "if st.button('How to navigate trough the web'):\n",
        "    #st.markdown('## Information')\n",
        "    st.write(\"\"\"\n",
        "\n",
        "First things first, we've got two pages for you to explore: one for Supervised ML 🕵️‍♀️ and one for Unsupervised ML 🕵️‍♂️. Supervised ML is like having a wise old owl 🦉 teach you things, while Unsupervised ML is like going on a treasure hunt 🗺️ without any clues. Sounds exciting, right?\n",
        "\n",
        "Here's how to move around our web:\n",
        "\n",
        "1️⃣ Choose the Supervised page\n",
        "\n",
        "2️⃣ Once you're there, take a moment to appreciate the sleek design of our web. It's like looking at a work of art 🎨, except it's also super functional!\n",
        "\n",
        "3️⃣ On the Supervised ML page, input some data 📊 and our ML agent will create a profiling and model for prediction. It's like having a magic wand 🧙, except it's science!\n",
        "\n",
        "4️⃣ And that's it! You're now a pro at navigating our web. Wasn't that easy? Now go forth and explore the exciting world of Machine Learning! Who knows, you might just discover something amazing! 🚀\n",
        "\n",
        "So what are you waiting for? Hop on over to our web and start exploring! 🤠\n",
        "\n",
        "\n",
        "\"\"\")\n",
        "\n",
        "if st.button('Who is the guy behind this app 👨'):\n",
        "    #st.markdown('## Information')\n",
        "    st.write(\"\"\"\n",
        "    🤔 Wondering who's behind all these witty ? Well, let me introduce you to the genius behind the screen:\n",
        "\n",
        "    👨‍💻 Meet the author, a skilled wordsmith and a master of all things !\n",
        "\n",
        "    📲 If you want to keep up with the author, make sure to follow him on social media! Here are some handy links:\n",
        "\n",
        "    💻 GitHub: [https://github.com/NicolasCort]\n",
        "\n",
        "    🎥 Youtube: [https://www.youtube.com/@nicocmw8501]\n",
        "\n",
        "    👍 Don't miss out on all the fun - give the author a follow today! 😄\n",
        "\n",
        "\"\"\")\n",
        "\n"
      ],
      "metadata": {
        "id": "kOCjSPMi6hlQ"
      },
      "execution_count": null,
      "outputs": []
    },
    {
      "cell_type": "code",
      "source": [
        "!streamlit run Home.py & npx localtunnel --port 8501"
      ],
      "metadata": {
        "id": "p5VggGoxWQXV",
        "colab": {
          "base_uri": "https://localhost:8080/"
        },
        "outputId": "f1763a13-d114-459b-d22e-6f2ee04a393e"
      },
      "execution_count": 8,
      "outputs": [
        {
          "output_type": "stream",
          "name": "stdout",
          "text": [
            "\n",
            "Collecting usage statistics. To deactivate, set browser.gatherUsageStats to False.\n",
            "\u001b[0m\n",
            "\u001b[0m\n",
            "\u001b[34m\u001b[1m  You can now view your Streamlit app in your browser.\u001b[0m\n",
            "\u001b[0m\n",
            "\u001b[34m  Network URL: \u001b[0m\u001b[1mhttp://172.28.0.12:8501\u001b[0m\n",
            "\u001b[34m  External URL: \u001b[0m\u001b[1mhttp://35.238.43.52:8501\u001b[0m\n",
            "\u001b[0m\n",
            "\u001b[K\u001b[?25hnpx: installed 22 in 4.154s\n",
            "your url is: https://tidy-meals-float.loca.lt\n",
            "\u001b[34m  Stopping...\u001b[0m\n",
            "^C\n"
          ]
        }
      ]
    }
  ]
}